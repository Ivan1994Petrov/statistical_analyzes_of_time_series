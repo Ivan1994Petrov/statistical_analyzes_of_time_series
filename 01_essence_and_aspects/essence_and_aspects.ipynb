{
 "cells": [
  {
   "cell_type": "code",
   "execution_count": 31,
   "metadata": {},
   "outputs": [],
   "source": [
    "import pandas as pd\n",
    "from math import prod"
   ]
  },
  {
   "cell_type": "markdown",
   "metadata": {},
   "source": [
    "## Statistical characterization of the general development"
   ]
  },
  {
   "cell_type": "markdown",
   "metadata": {},
   "source": [
    "#### Ungrouped data"
   ]
  },
  {
   "cell_type": "code",
   "execution_count": 54,
   "metadata": {},
   "outputs": [],
   "source": [
    "data = pd.DataFrame({\n",
    "    \"Y\" : [18, 20, 22, 20, 24, 22]\n",
    "})"
   ]
  },
  {
   "cell_type": "markdown",
   "metadata": {},
   "source": [
    "$$\\overline{y}=\\frac{\\displaystyle\\sum_{i=1}^{N} y_i}{N}$$"
   ]
  },
  {
   "cell_type": "code",
   "execution_count": 55,
   "metadata": {},
   "outputs": [],
   "source": [
    "def average_ungrouped_data(data):\n",
    "    return sum(data.Y)/len(data.Y)"
   ]
  },
  {
   "cell_type": "code",
   "execution_count": 56,
   "metadata": {},
   "outputs": [
    {
     "data": {
      "text/plain": [
       "21.0"
      ]
     },
     "execution_count": 56,
     "metadata": {},
     "output_type": "execute_result"
    }
   ],
   "source": [
    "average_ungrouped_data(data)"
   ]
  },
  {
   "cell_type": "markdown",
   "metadata": {},
   "source": [
    "#### Grouped data"
   ]
  },
  {
   "cell_type": "code",
   "execution_count": 218,
   "metadata": {},
   "outputs": [],
   "source": [
    "data = pd.DataFrame({\n",
    "    \"Y\" : [18, 20, 22, 24],\n",
    "    \"t_i\" : [1, 2, 2, 1]\n",
    "})"
   ]
  },
  {
   "cell_type": "markdown",
   "metadata": {},
   "source": [
    "$$\\overline{y}=\\frac{\\displaystyle\\sum_{i=1}^{m} y_i t_i}{\\displaystyle\\sum_{i=1}^{m} t_i}$$"
   ]
  },
  {
   "cell_type": "code",
   "execution_count": 52,
   "metadata": {},
   "outputs": [],
   "source": [
    "def average_grouped_data(data):\n",
    "    return sum(data.Y * data.t_i)/sum(data.t_i)"
   ]
  },
  {
   "cell_type": "code",
   "execution_count": 53,
   "metadata": {},
   "outputs": [
    {
     "data": {
      "text/plain": [
       "21.0"
      ]
     },
     "execution_count": 53,
     "metadata": {},
     "output_type": "execute_result"
    }
   ],
   "source": [
    "average_grouped_data(data)"
   ]
  },
  {
   "cell_type": "markdown",
   "metadata": {},
   "source": [
    "#### Weighted average ungrouped"
   ]
  },
  {
   "cell_type": "code",
   "execution_count": 166,
   "metadata": {},
   "outputs": [],
   "source": [
    "data = pd.DataFrame({\n",
    "    \"t_i\" : [\"01.01\", \"01.02\", \"01.03\", \"01.04\", \"01.05\", \"01.06\"],\n",
    "    \"Y\" : [1200, 1230, 1210, 1240, 1220, 1216]\n",
    "})"
   ]
  },
  {
   "cell_type": "markdown",
   "metadata": {},
   "source": [
    "$$\\overline{y}=\\frac{\\displaystyle\\sum_{i=1}^{N - 1} \\frac{y_i + y_{i+1}}{2}}{N - 1}$$"
   ]
  },
  {
   "cell_type": "code",
   "execution_count": 169,
   "metadata": {},
   "outputs": [],
   "source": [
    "def weighted_average_ungrouped(data):\n",
    "    sum_y = 0\n",
    "    for i in range(len(data.Y)-1):\n",
    "        sum_y += data.Y[i] + data.Y[i+1]\n",
    "    div_y = sum_y/2\n",
    "    return div_y/(len(data.Y) - 1)"
   ]
  },
  {
   "cell_type": "code",
   "execution_count": 170,
   "metadata": {},
   "outputs": [
    {
     "data": {
      "text/plain": [
       "1221.6"
      ]
     },
     "execution_count": 170,
     "metadata": {},
     "output_type": "execute_result"
    }
   ],
   "source": [
    "weighted_average_ungrouped(data)"
   ]
  },
  {
   "cell_type": "markdown",
   "metadata": {},
   "source": [
    "#### Weighted average grouped"
   ]
  },
  {
   "cell_type": "code",
   "execution_count": 171,
   "metadata": {},
   "outputs": [],
   "source": [
    "data = pd.DataFrame({\n",
    "    \"date\": [1, 3, 4, 6],\n",
    "    \"Y\": [1200, 1230, 1210, 1240]\n",
    "})"
   ]
  },
  {
   "cell_type": "markdown",
   "metadata": {},
   "source": [
    "$$\\overline{y}=\\frac{\\displaystyle\\sum_{i=1}^{N - 1} \\frac{y_i + y_{i+1}}{2}(t_{i+1} - t_i)}{\\displaystyle\\sum_{i=1}^{N - 1}(t_{i+1} - t_i)}$$"
   ]
  },
  {
   "cell_type": "code",
   "execution_count": 182,
   "metadata": {},
   "outputs": [],
   "source": [
    "def weighted_average_grouped(data):\n",
    "    sum_t = 0\n",
    "    sums = 0\n",
    "    for i in range(len(data.Y) - 1):\n",
    "        t = data.date[i + 1] - data.date[i]\n",
    "        sum_y = data.Y[i] + data.Y[i+1]\n",
    "        sum_y_mul_t = sum_y * t\n",
    "        sum_y_mul_t = sum_y_mul_t/2\n",
    "        sums += sum_y_mul_t\n",
    "        sum_t += t\n",
    "    return sums/sum_t"
   ]
  },
  {
   "cell_type": "code",
   "execution_count": 183,
   "metadata": {},
   "outputs": [
    {
     "data": {
      "text/plain": [
       "1220.0"
      ]
     },
     "execution_count": 183,
     "metadata": {},
     "output_type": "execute_result"
    }
   ],
   "source": [
    "weighted_average_grouped(data)"
   ]
  },
  {
   "cell_type": "markdown",
   "metadata": {},
   "source": [
    "#### Geometric mean"
   ]
  },
  {
   "cell_type": "markdown",
   "metadata": {},
   "source": [
    "$$\\overline{y}_g=\\sqrt[N]{y_1.y_2.y_3 \\dots y_N}$$"
   ]
  },
  {
   "cell_type": "code",
   "execution_count": 185,
   "metadata": {},
   "outputs": [],
   "source": [
    "data = pd.DataFrame({\n",
    "    \"Y\" : [2, 4, 8, 16, 32]\n",
    "})"
   ]
  },
  {
   "cell_type": "code",
   "execution_count": 215,
   "metadata": {},
   "outputs": [],
   "source": [
    "def prod(data):\n",
    "    product = 1\n",
    "    for element in data:\n",
    "        product *= element\n",
    "    return product"
   ]
  },
  {
   "cell_type": "code",
   "execution_count": 216,
   "metadata": {},
   "outputs": [],
   "source": [
    "def geometric_mean(data):\n",
    "    return prod(data.Y)**(1/len(data.Y))"
   ]
  },
  {
   "cell_type": "code",
   "execution_count": 217,
   "metadata": {},
   "outputs": [
    {
     "data": {
      "text/plain": [
       "8.000000000000002"
      ]
     },
     "execution_count": 217,
     "metadata": {},
     "output_type": "execute_result"
    }
   ],
   "source": [
    "geometric_mean(data)"
   ]
  },
  {
   "cell_type": "markdown",
   "metadata": {},
   "source": [
    "#### Problem"
   ]
  },
  {
   "cell_type": "code",
   "execution_count": 222,
   "metadata": {},
   "outputs": [],
   "source": [
    "data = pd.DataFrame({\n",
    "    \"date\": [\"Jan\", \"Feb\", \"Mar\", \"Apr\", \"May\", \"Jun\"],\n",
    "    \"cost\": [382, 412, 450, 494, 477, 486]\n",
    "})"
   ]
  },
  {
   "cell_type": "code",
   "execution_count": 223,
   "metadata": {},
   "outputs": [
    {
     "data": {
      "text/html": [
       "<div>\n",
       "<style scoped>\n",
       "    .dataframe tbody tr th:only-of-type {\n",
       "        vertical-align: middle;\n",
       "    }\n",
       "\n",
       "    .dataframe tbody tr th {\n",
       "        vertical-align: top;\n",
       "    }\n",
       "\n",
       "    .dataframe thead th {\n",
       "        text-align: right;\n",
       "    }\n",
       "</style>\n",
       "<table border=\"1\" class=\"dataframe\">\n",
       "  <thead>\n",
       "    <tr style=\"text-align: right;\">\n",
       "      <th></th>\n",
       "      <th>date</th>\n",
       "      <th>cost</th>\n",
       "    </tr>\n",
       "  </thead>\n",
       "  <tbody>\n",
       "    <tr>\n",
       "      <th>0</th>\n",
       "      <td>Jan</td>\n",
       "      <td>382</td>\n",
       "    </tr>\n",
       "    <tr>\n",
       "      <th>1</th>\n",
       "      <td>Feb</td>\n",
       "      <td>412</td>\n",
       "    </tr>\n",
       "    <tr>\n",
       "      <th>2</th>\n",
       "      <td>Mar</td>\n",
       "      <td>450</td>\n",
       "    </tr>\n",
       "    <tr>\n",
       "      <th>3</th>\n",
       "      <td>Apr</td>\n",
       "      <td>494</td>\n",
       "    </tr>\n",
       "    <tr>\n",
       "      <th>4</th>\n",
       "      <td>May</td>\n",
       "      <td>477</td>\n",
       "    </tr>\n",
       "    <tr>\n",
       "      <th>5</th>\n",
       "      <td>Jun</td>\n",
       "      <td>486</td>\n",
       "    </tr>\n",
       "  </tbody>\n",
       "</table>\n",
       "</div>"
      ],
      "text/plain": [
       "  date  cost\n",
       "0  Jan   382\n",
       "1  Feb   412\n",
       "2  Mar   450\n",
       "3  Apr   494\n",
       "4  May   477\n",
       "5  Jun   486"
      ]
     },
     "execution_count": 223,
     "metadata": {},
     "output_type": "execute_result"
    }
   ],
   "source": [
    "data"
   ]
  },
  {
   "cell_type": "markdown",
   "metadata": {},
   "source": [
    "#### Absolute growth at a constant base"
   ]
  },
  {
   "cell_type": "markdown",
   "metadata": {},
   "source": [
    "$$\\Delta_{2/1}=y_2 - y_1$$\n",
    "$$\\Delta_{3/1}=y_3 - y_1$$\n",
    "$$\\vdots$$"
   ]
  },
  {
   "cell_type": "code",
   "execution_count": 242,
   "metadata": {},
   "outputs": [],
   "source": [
    "def absolute_growth_constant_base(data):\n",
    "    \n",
    "    return [data[i] - data[0] for i in range(len(data))]"
   ]
  },
  {
   "cell_type": "code",
   "execution_count": 243,
   "metadata": {},
   "outputs": [
    {
     "data": {
      "text/plain": [
       "[0, 30, 68, 112, 95, 104]"
      ]
     },
     "execution_count": 243,
     "metadata": {},
     "output_type": "execute_result"
    }
   ],
   "source": [
    "absolute_growth_constant_base(data.cost)"
   ]
  },
  {
   "cell_type": "markdown",
   "metadata": {},
   "source": [
    "#### Absolute growth at chain base"
   ]
  },
  {
   "cell_type": "markdown",
   "metadata": {},
   "source": [
    "$$\\Delta_{2/1}=y_2 - y_1$$\n",
    "$$\\Delta_{3/2}=y_3 - y_2$$\n",
    "$$\\vdots$$"
   ]
  },
  {
   "cell_type": "code",
   "execution_count": 246,
   "metadata": {},
   "outputs": [],
   "source": [
    "def absolute_growth_chain_base(data):\n",
    "    growth = []\n",
    "    for i in range(len(data)):\n",
    "        if i == 0:\n",
    "            growth.append(0)\n",
    "        else:\n",
    "            growth.append(data[i] - data[i-1])\n",
    "    return growth"
   ]
  },
  {
   "cell_type": "code",
   "execution_count": 247,
   "metadata": {},
   "outputs": [
    {
     "data": {
      "text/plain": [
       "[0, 30, 38, 44, -17, 9]"
      ]
     },
     "execution_count": 247,
     "metadata": {},
     "output_type": "execute_result"
    }
   ],
   "source": [
    "absolute_growth_chain_base(data.cost)"
   ]
  },
  {
   "cell_type": "markdown",
   "metadata": {},
   "source": [
    "#### Rates at a constant base"
   ]
  },
  {
   "cell_type": "markdown",
   "metadata": {},
   "source": [
    "$$T_{2/1}=\\frac{y_2}{y_1}$$\n",
    "$$T_{3/1}=\\frac{y_3}{y_1}$$\n",
    "$$\\vdots$$"
   ]
  },
  {
   "cell_type": "code",
   "execution_count": 256,
   "metadata": {},
   "outputs": [],
   "source": [
    "def rates_constant_base(data):\n",
    "    return [data[i] / data[0] for i in range(len(data))]"
   ]
  },
  {
   "cell_type": "code",
   "execution_count": 257,
   "metadata": {},
   "outputs": [
    {
     "data": {
      "text/plain": [
       "[1.0,\n",
       " 1.0785340314136125,\n",
       " 1.1780104712041886,\n",
       " 1.293193717277487,\n",
       " 1.2486910994764397,\n",
       " 1.2722513089005236]"
      ]
     },
     "execution_count": 257,
     "metadata": {},
     "output_type": "execute_result"
    }
   ],
   "source": [
    "rates_constant_base(data.cost)"
   ]
  },
  {
   "cell_type": "markdown",
   "metadata": {},
   "source": [
    "#### Rates at a chain base"
   ]
  },
  {
   "cell_type": "markdown",
   "metadata": {},
   "source": [
    "$$T_{2/1}=\\frac{y_2}{y_1}$$\n",
    "$$T_{3/2}=\\frac{y_3}{y_2}$$\n",
    "$$\\vdots$$"
   ]
  },
  {
   "cell_type": "code",
   "execution_count": 258,
   "metadata": {},
   "outputs": [],
   "source": [
    "def rates_chain_base(data):\n",
    "    rates = []\n",
    "    \n",
    "    for i in range(len(data)):\n",
    "        if i == 0:\n",
    "            rates.append(0)\n",
    "        else:\n",
    "            rates.append(data[i] / data[i-1])\n",
    "    return rates"
   ]
  },
  {
   "cell_type": "code",
   "execution_count": 259,
   "metadata": {},
   "outputs": [
    {
     "data": {
      "text/plain": [
       "[0,\n",
       " 1.0785340314136125,\n",
       " 1.0922330097087378,\n",
       " 1.0977777777777777,\n",
       " 0.9655870445344129,\n",
       " 1.0188679245283019]"
      ]
     },
     "execution_count": 259,
     "metadata": {},
     "output_type": "execute_result"
    }
   ],
   "source": [
    "rates_chain_base(data.cost)"
   ]
  },
  {
   "cell_type": "markdown",
   "metadata": {},
   "source": [
    "#### Growth rates constant base"
   ]
  },
  {
   "cell_type": "markdown",
   "metadata": {},
   "source": [
    "$$\\Delta_{2/1(\\%)}=\\frac{y_2 - y_1}{y_1}100$$\n",
    "$$\\Delta_{3/1(\\%)}=\\frac{y_3 - y_1}{y_1}100$$\n",
    "$$\\vdots$$"
   ]
  },
  {
   "cell_type": "code",
   "execution_count": 262,
   "metadata": {},
   "outputs": [],
   "source": [
    "def growth_rates_constant_base(data):\n",
    "    rates = []\n",
    "    \n",
    "    for i in range(len(data)):\n",
    "        rates.append(((data[i] - data[0])/data[0])*100)\n",
    "    return rates"
   ]
  },
  {
   "cell_type": "code",
   "execution_count": 263,
   "metadata": {},
   "outputs": [
    {
     "data": {
      "text/plain": [
       "[0.0,\n",
       " 7.853403141361256,\n",
       " 17.801047120418847,\n",
       " 29.31937172774869,\n",
       " 24.86910994764398,\n",
       " 27.225130890052355]"
      ]
     },
     "execution_count": 263,
     "metadata": {},
     "output_type": "execute_result"
    }
   ],
   "source": [
    "growth_rates_constant_base(data.cost)"
   ]
  },
  {
   "cell_type": "markdown",
   "metadata": {},
   "source": [
    "#### Growth rates chain base"
   ]
  },
  {
   "cell_type": "markdown",
   "metadata": {},
   "source": [
    "$$\\Delta_{2/1(\\%)}=\\frac{y_2 - y_1}{y_1}100$$\n",
    "$$\\Delta_{3/2(\\%)}=\\frac{y_3 - y_2}{y_2}100$$\n",
    "$$\\vdots$$"
   ]
  },
  {
   "cell_type": "code",
   "execution_count": 264,
   "metadata": {},
   "outputs": [],
   "source": [
    "def growth_rates_chain_base(data):\n",
    "    rates = []\n",
    "    \n",
    "    for i in range(len(data)):\n",
    "        if i == 0:\n",
    "            rates.append(0)\n",
    "        else:\n",
    "            rates.append(((data[i] - data[i-1])/data[i-1])*100)\n",
    "    return rates"
   ]
  },
  {
   "cell_type": "code",
   "execution_count": 266,
   "metadata": {},
   "outputs": [
    {
     "data": {
      "text/plain": [
       "[0,\n",
       " 7.853403141361256,\n",
       " 9.223300970873787,\n",
       " 9.777777777777779,\n",
       " -3.4412955465587043,\n",
       " 1.8867924528301887]"
      ]
     },
     "execution_count": 266,
     "metadata": {},
     "output_type": "execute_result"
    }
   ],
   "source": [
    "growth_rates_chain_base(data.cost)"
   ]
  },
  {
   "cell_type": "markdown",
   "metadata": {},
   "source": [
    "#### Average absolute growth"
   ]
  },
  {
   "cell_type": "markdown",
   "metadata": {},
   "source": [
    "$$\\overline{\\Delta}_y=\\frac{\\Delta_{2/1}+ \\Delta_{3/2} + \\dots + \\Delta_{N/N-1}}{N-1}$$"
   ]
  },
  {
   "cell_type": "code",
   "execution_count": 267,
   "metadata": {},
   "outputs": [],
   "source": [
    "def average_absolute_growth(data):\n",
    "    absolute_bases = absolute_growth_chain_base(data)\n",
    "    return sum(absolute_bases) / len(absolute_bases)"
   ]
  },
  {
   "cell_type": "code",
   "execution_count": 268,
   "metadata": {},
   "outputs": [
    {
     "data": {
      "text/plain": [
       "17.333333333333332"
      ]
     },
     "execution_count": 268,
     "metadata": {},
     "output_type": "execute_result"
    }
   ],
   "source": [
    "average_absolute_growth(data.cost)"
   ]
  },
  {
   "cell_type": "markdown",
   "metadata": {},
   "source": [
    "#### Average geometric rate"
   ]
  },
  {
   "cell_type": "markdown",
   "metadata": {},
   "source": [
    "$$\\overline{T}=\\sqrt[N-1]{T_{2/1}T_{3/2}T_{4/3} \\dots T_{N/N-1}}=\\sqrt[N-1]{\\frac{y_N}{y_1}}$$"
   ]
  },
  {
   "cell_type": "code",
   "execution_count": 283,
   "metadata": {},
   "outputs": [],
   "source": [
    "def average_geometric_rate(data):\n",
    "    rates = rates_chain_base(data)\n",
    "#     rates[1:] skip 0 from first element\n",
    "#     result_func = prod(rates[1:])**(1/len(rates))\n",
    "    result_formula = (data[len(data)-1] / data[0])**(1/len(rates))\n",
    "    return result_formula"
   ]
  },
  {
   "cell_type": "code",
   "execution_count": 284,
   "metadata": {},
   "outputs": [
    {
     "data": {
      "text/plain": [
       "1.0409474789706696"
      ]
     },
     "execution_count": 284,
     "metadata": {},
     "output_type": "execute_result"
    }
   ],
   "source": [
    "average_geometric_rate(data.cost)"
   ]
  },
  {
   "cell_type": "code",
   "execution_count": null,
   "metadata": {},
   "outputs": [],
   "source": []
  },
  {
   "cell_type": "code",
   "execution_count": null,
   "metadata": {},
   "outputs": [],
   "source": []
  }
 ],
 "metadata": {
  "kernelspec": {
   "display_name": "Python 3",
   "language": "python",
   "name": "python3"
  },
  "language_info": {
   "codemirror_mode": {
    "name": "ipython",
    "version": 3
   },
   "file_extension": ".py",
   "mimetype": "text/x-python",
   "name": "python",
   "nbconvert_exporter": "python",
   "pygments_lexer": "ipython3",
   "version": "3.8.3"
  }
 },
 "nbformat": 4,
 "nbformat_minor": 4
}
